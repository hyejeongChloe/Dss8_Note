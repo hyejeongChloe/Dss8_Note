{
 "cells": [
  {
   "cell_type": "markdown",
   "metadata": {},
   "source": [
    "## 1. 입력 (input)\n",
    "- value=input(\"insert string : \")"
   ]
  },
  {
   "cell_type": "code",
   "execution_count": 1,
   "metadata": {},
   "outputs": [
    {
     "name": "stdout",
     "output_type": "stream",
     "text": [
      "insert string : 1234\n",
      "<class 'str'> 1234\n"
     ]
    }
   ],
   "source": [
    "# 입력된 값은 무조건 문자열\n",
    "\n",
    "s=input(\"insert string : \")\n",
    "print(type(s),s)"
   ]
  },
  {
   "cell_type": "code",
   "execution_count": 2,
   "metadata": {},
   "outputs": [
    {
     "name": "stdout",
     "output_type": "stream",
     "text": [
      "insert string : 1234\n",
      "<class 'int'> 1234\n"
     ]
    }
   ],
   "source": [
    "# int(input()) - 숫자 입력하고 싶을 땐, 입력된 문자열을 숫자로 변환\n",
    "\n",
    "n=int(input(\"insert string : \"))\n",
    "print(type(n),n)"
   ]
  },
  {
   "cell_type": "code",
   "execution_count": 6,
   "metadata": {},
   "outputs": [
    {
     "name": "stdout",
     "output_type": "stream",
     "text": [
      "insert list (sep=' '): 12 34\n",
      "<class 'list'> ['12', '34']\n"
     ]
    }
   ],
   "source": [
    "# 여러 개의 값 입력 - split을 이용해 리스트로\n",
    "\n",
    "ls=input(\"insert list (sep=' '): \") # sep=' '은 문구일 뿐!!\n",
    "ls = ls.split(\" \") # 여러 값을 입력시 구분 방법은 공백 한 개\n",
    "print(type(ls),ls)"
   ]
  },
  {
   "cell_type": "code",
   "execution_count": 7,
   "metadata": {},
   "outputs": [
    {
     "name": "stdout",
     "output_type": "stream",
     "text": [
      "number: 5\n",
      "dss\n",
      "dss\n",
      "dss\n",
      "dss\n",
      "dss\n"
     ]
    }
   ],
   "source": [
    "# 입력 받은 숫자 반복문\n",
    "\n",
    "n=int(input(\"number: \" )) # 입력된 값을 숫자로 바꾸고,\n",
    "for number in range(n): \n",
    "    print(\"dss\") # dss를 그 숫자만큼 반복"
   ]
  },
  {
   "cell_type": "markdown",
   "metadata": {},
   "source": [
    "## 2. 출력 (output)"
   ]
  },
  {
   "cell_type": "code",
   "execution_count": 8,
   "metadata": {},
   "outputs": [
    {
     "name": "stdout",
     "output_type": "stream",
     "text": [
      "test page\n"
     ]
    }
   ],
   "source": [
    "# print() - tuple 형태로 출력 \n",
    "\n",
    "s=\"test\"\n",
    "print(s, \"page\")"
   ]
  },
  {
   "cell_type": "code",
   "execution_count": 3,
   "metadata": {},
   "outputs": [
    {
     "name": "stdout",
     "output_type": "stream",
     "text": [
      "{'A': 'test', 'B': 'data', 'C': {'D': 'dss', 'E': 'science'}}\n",
      "{'A': 'test', 'B': 'data', 'C': {'D': 'dss', 'E': 'science'}}\n"
     ]
    }
   ],
   "source": [
    "# pprint - 딕셔너리와 같은 데이터가 복잡할 때 사용\n",
    "\n",
    "from pprint import pprint\n",
    "\n",
    "dic={\"A\":\"test\",\"B\":\"data\",\"C\":{\"D\":\"dss\",\"E\":\"science\"}}\n",
    "print(dic)\n",
    "pprint(dic) # 쥬피터에선 안 됨. \\한것 처럼 행을 구분해서 보기 편하게 해줌"
   ]
  },
  {
   "cell_type": "code",
   "execution_count": null,
   "metadata": {},
   "outputs": [],
   "source": []
  },
  {
   "cell_type": "code",
   "execution_count": null,
   "metadata": {},
   "outputs": [],
   "source": []
  },
  {
   "cell_type": "code",
   "execution_count": null,
   "metadata": {},
   "outputs": [],
   "source": []
  }
 ],
 "metadata": {
  "kernelspec": {
   "display_name": "Python 3",
   "language": "python",
   "name": "python3"
  },
  "language_info": {
   "codemirror_mode": {
    "name": "ipython",
    "version": 3
   },
   "file_extension": ".py",
   "mimetype": "text/x-python",
   "name": "python",
   "nbconvert_exporter": "python",
   "pygments_lexer": "ipython3",
   "version": "3.6.4"
  }
 },
 "nbformat": 4,
 "nbformat_minor": 2
}
