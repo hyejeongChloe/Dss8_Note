{
 "cells": [
  {
   "cell_type": "markdown",
   "metadata": {},
   "source": [
    "# Python 기초 문법"
   ]
  },
  {
   "cell_type": "markdown",
   "metadata": {},
   "source": [
    "## 1. Comment, Print"
   ]
  },
  {
   "cell_type": "markdown",
   "metadata": {},
   "source": [
    "### 1.1 주석 (comment)\n",
    "- 코드가 실행되지 않는 라인.\n",
    "- 코드에 대한 설명, 잠시 코드 사용을 안 하고 싶을 때"
   ]
  },
  {
   "cell_type": "code",
   "execution_count": 1,
   "metadata": {},
   "outputs": [],
   "source": [
    "# = ctrl+/\n",
    "# 여러 줄 한번에 주석처리 하려면 블록 잡고 ctrl+/"
   ]
  },
  {
   "cell_type": "markdown",
   "metadata": {},
   "source": [
    "### 1.2 출력 (print)\n",
    "- 데이터 출력\n",
    "- print에는 라인을 바꾸라는 end=\"\\n\"이 숨겨져 있음."
   ]
  },
  {
   "cell_type": "code",
   "execution_count": 163,
   "metadata": {},
   "outputs": [
    {
     "name": "stdout",
     "output_type": "stream",
     "text": [
      "dss7\n",
      "dss8\n"
     ]
    }
   ],
   "source": [
    "print(\"dss7\")\n",
    "print(\"dss8\")"
   ]
  },
  {
   "cell_type": "code",
   "execution_count": 165,
   "metadata": {},
   "outputs": [
    {
     "name": "stdout",
     "output_type": "stream",
     "text": [
      "dss7\tdss8\n"
     ]
    }
   ],
   "source": [
    "# end=\"\"를 직접 입력해주면 라인 바꾸기 외에 다른 것으로 변경 가능\n",
    "\n",
    "print(\"dss7\", end=\"\\t\") # tab\n",
    "print(\"dss8\")"
   ]
  },
  {
   "cell_type": "code",
   "execution_count": 22,
   "metadata": {},
   "outputs": [
    {
     "name": "stdout",
     "output_type": "stream",
     "text": [
      "this is good data science school!     this is good data science school!     this is good data science school!\n"
     ]
    }
   ],
   "source": [
    "# 코드가 길 때 역슬래시\\ 사용\n",
    "\n",
    "print(\"this is good data science school!\\\n",
    "     this is good data science school!\\\n",
    "     this is good data science school!\")"
   ]
  },
  {
   "cell_type": "markdown",
   "metadata": {},
   "source": [
    "##### format"
   ]
  },
  {
   "cell_type": "code",
   "execution_count": 166,
   "metadata": {},
   "outputs": [
    {
     "name": "stdout",
     "output_type": "stream",
     "text": [
      "data science\n"
     ]
    }
   ],
   "source": [
    "s=\"data\"\n",
    "print(\"{} science\".format(s))"
   ]
  },
  {
   "cell_type": "code",
   "execution_count": 12,
   "metadata": {},
   "outputs": [
    {
     "name": "stdout",
     "output_type": "stream",
     "text": [
      "1. data science\n"
     ]
    }
   ],
   "source": [
    "s=\"data\"\n",
    "n=1\n",
    "print(\"{}. {} science\".format(n,s))"
   ]
  },
  {
   "cell_type": "code",
   "execution_count": 16,
   "metadata": {},
   "outputs": [
    {
     "name": "stdout",
     "output_type": "stream",
     "text": [
      "1. data science\n",
      "1. data science\n"
     ]
    }
   ],
   "source": [
    "# 순서 상관 없이!\n",
    "\n",
    "s=\"data\"\n",
    "n=1\n",
    "print(\"{number}. {st} science\".format(number=n,st=s))\n",
    "print(\"{number}. {st} science\".format(st=s, number=n))"
   ]
  },
  {
   "cell_type": "markdown",
   "metadata": {},
   "source": [
    "## 2. 식별자"
   ]
  },
  {
   "cell_type": "markdown",
   "metadata": {},
   "source": [
    "식별자: 변수, 함수 클래스, 모듈, 패키지 등을 구분하기 위해서 사용되는 이름\n",
    "- 규칙\n",
    "     - 대소문자 구분\n",
    "     - 소문자(a~z), 대문자(A~Z), 숫자(0~9), 특수기호(_) 사용 가능\n",
    "     - 가장 앞에는 `__`(언더바 두개) 사용 지양!! \n",
    "     - 가장 앞에 숫자 사용 불가\n",
    "     - 예약어 사용 불가 예: print, def, class, True, False..."
   ]
  },
  {
   "cell_type": "markdown",
   "metadata": {},
   "source": [
    "## 3. 변수 (Variable)\n",
    "- 변수: 메모리에 데이터를 저장하기 위한 저장공간의 이름"
   ]
  },
  {
   "cell_type": "code",
   "execution_count": 28,
   "metadata": {},
   "outputs": [
    {
     "data": {
      "text/plain": [
       "(1, 'python')"
      ]
     },
     "execution_count": 28,
     "metadata": {},
     "output_type": "execute_result"
    }
   ],
   "source": [
    "# 선언 '=' equal이 아니라 대입의 의미!\n",
    "\n",
    "a=1\n",
    "b=\"python\"\n",
    "a, b"
   ]
  },
  {
   "cell_type": "code",
   "execution_count": 167,
   "metadata": {},
   "outputs": [],
   "source": [
    "# 식별자의 규칙에 맞지 않는 변수 햘당 예시\n",
    "\n",
    "# abc%=10\n",
    "# 1_abc=10\n",
    "# class=10"
   ]
  },
  {
   "cell_type": "code",
   "execution_count": 2,
   "metadata": {},
   "outputs": [
    {
     "data": {
      "text/plain": [
       "(1, 2)"
      ]
     },
     "execution_count": 2,
     "metadata": {},
     "output_type": "execute_result"
    }
   ],
   "source": [
    "# 다중할당\n",
    "\n",
    "a, b=1, 2 # 한 줄에 여러 변수 할당\n",
    "a, b"
   ]
  },
  {
   "cell_type": "code",
   "execution_count": 169,
   "metadata": {},
   "outputs": [
    {
     "data": {
      "text/plain": [
       "(3, 3, 3)"
      ]
     },
     "execution_count": 169,
     "metadata": {},
     "output_type": "execute_result"
    }
   ],
   "source": [
    "c=d=e=3 # 같은 값을 여러 변수에 할당\n",
    "c,d,e"
   ]
  },
  {
   "cell_type": "code",
   "execution_count": 36,
   "metadata": {},
   "outputs": [
    {
     "data": {
      "text/plain": [
       "(5, 3, 3)"
      ]
     },
     "execution_count": 36,
     "metadata": {},
     "output_type": "execute_result"
    }
   ],
   "source": [
    "# c,d,e는 각각 독립된 메모리에 저장되므로, 하나를 바꾸면 그것만 바뀜\n",
    "\n",
    "c=5\n",
    "c,d,e"
   ]
  },
  {
   "cell_type": "markdown",
   "metadata": {},
   "source": [
    "## 4. 자료형 (Datatype)\n",
    "- number: int, float, complex\n",
    "- boolean: True, False\n",
    "- string: 문자열(문자들의 집합)\n",
    "- collection\n",
    "    - list\n",
    "    - tuple\n",
    "    - dictionary \n",
    "    - set"
   ]
  },
  {
   "cell_type": "markdown",
   "metadata": {},
   "source": [
    "### 4.1 Number"
   ]
  },
  {
   "cell_type": "markdown",
   "metadata": {},
   "source": [
    "cf. 동적타이핑: int, float 등을 선언할 필요 없이 자동으로 데이터 타입이 들어감."
   ]
  },
  {
   "cell_type": "markdown",
   "metadata": {},
   "source": [
    "#### 1)  int (정수)\n",
    "\n",
    "- python 2는 제한적(-2`**`31 - 1 ~ 2`**`31), python 3는 무제한"
   ]
  },
  {
   "cell_type": "code",
   "execution_count": 1,
   "metadata": {},
   "outputs": [
    {
     "name": "stdout",
     "output_type": "stream",
     "text": [
      "<class 'int'> <class 'int'> <class 'int'> <class 'int'>\n"
     ]
    },
    {
     "data": {
      "text/plain": [
       "(0, 1234, -6789, 2345)"
      ]
     },
     "execution_count": 1,
     "metadata": {},
     "output_type": "execute_result"
    }
   ],
   "source": [
    "a,b,c,d=0,1234,-6789,+2345\n",
    "print(type(a),type(b),type(c),type(d))\n",
    "a,b,c,d"
   ]
  },
  {
   "cell_type": "markdown",
   "metadata": {},
   "source": [
    "#### 2) float (소수점이 있는 실수)"
   ]
  },
  {
   "cell_type": "code",
   "execution_count": 44,
   "metadata": {},
   "outputs": [
    {
     "name": "stdout",
     "output_type": "stream",
     "text": [
      "<class 'float'> <class 'float'> <class 'float'> <class 'float'>\n"
     ]
    },
    {
     "data": {
      "text/plain": [
       "(0.0, 1234.123, -6789.123, 2345.123)"
      ]
     },
     "execution_count": 44,
     "metadata": {},
     "output_type": "execute_result"
    }
   ],
   "source": [
    "a,b,c,d=0.0,1234.123,-6789.123,+2345.123\n",
    "print(type(a),type(b),type(c),type(d))\n",
    "a,b,c,d"
   ]
  },
  {
   "cell_type": "markdown",
   "metadata": {},
   "source": [
    "#### 3) complex (복소수)"
   ]
  },
  {
   "cell_type": "code",
   "execution_count": 3,
   "metadata": {},
   "outputs": [
    {
     "data": {
      "text/plain": [
       "(complex, (2+3j), complex, (5-2j))"
      ]
     },
     "execution_count": 3,
     "metadata": {},
     "output_type": "execute_result"
    }
   ],
   "source": [
    "# 선언 (두 가지 방법)\n",
    "\n",
    "a=2+3j\n",
    "b=complex(5,-2)\n",
    "type(a),a,type(b),b"
   ]
  },
  {
   "cell_type": "code",
   "execution_count": 4,
   "metadata": {},
   "outputs": [
    {
     "data": {
      "text/plain": [
       "(2.0, 3.0, float, float)"
      ]
     },
     "execution_count": 4,
     "metadata": {},
     "output_type": "execute_result"
    }
   ],
   "source": [
    "# 실수부 a.real / 허수부 a.imag\n",
    "\n",
    "a.real, a.imag, type(a.real), type(a.imag)"
   ]
  },
  {
   "cell_type": "code",
   "execution_count": 5,
   "metadata": {},
   "outputs": [
    {
     "data": {
      "text/plain": [
       "((7+1j), (16+11j), (0.1379310344827586+0.6551724137931034j))"
      ]
     },
     "execution_count": 5,
     "metadata": {},
     "output_type": "execute_result"
    }
   ],
   "source": [
    "# 연산\n",
    "\n",
    "a+b, a*b, a/b"
   ]
  },
  {
   "cell_type": "code",
   "execution_count": 6,
   "metadata": {},
   "outputs": [
    {
     "data": {
      "text/plain": [
       "((2-3j), (5+2j))"
      ]
     },
     "execution_count": 6,
     "metadata": {},
     "output_type": "execute_result"
    }
   ],
   "source": [
    "# 켤레복소수 a.conjugate()\n",
    "\n",
    "a.conjugate(), b.conjugate() "
   ]
  },
  {
   "cell_type": "code",
   "execution_count": 7,
   "metadata": {},
   "outputs": [
    {
     "data": {
      "text/plain": [
       "(3.605551275463989, 5.385164807134504)"
      ]
     },
     "execution_count": 7,
     "metadata": {},
     "output_type": "execute_result"
    }
   ],
   "source": [
    "# 복소수의 크기 (절댓값 개념)\n",
    "\n",
    "abs(a), abs(b)"
   ]
  },
  {
   "cell_type": "markdown",
   "metadata": {},
   "source": [
    "### 4.2 Boolean\n",
    "- True / False (대문자!)"
   ]
  },
  {
   "cell_type": "code",
   "execution_count": 56,
   "metadata": {},
   "outputs": [
    {
     "name": "stdout",
     "output_type": "stream",
     "text": [
      "<class 'bool'> <class 'bool'>\n"
     ]
    },
    {
     "data": {
      "text/plain": [
       "(True, False)"
      ]
     },
     "execution_count": 56,
     "metadata": {},
     "output_type": "execute_result"
    }
   ],
   "source": [
    "a,b=True,False\n",
    "print(type(a),type(b))\n",
    "a,b"
   ]
  },
  {
   "cell_type": "markdown",
   "metadata": {},
   "source": [
    "### 4.3 String"
   ]
  },
  {
   "cell_type": "markdown",
   "metadata": {},
   "source": [
    "#### 1) 문자열 선언"
   ]
  },
  {
   "cell_type": "code",
   "execution_count": 9,
   "metadata": {},
   "outputs": [
    {
     "name": "stdout",
     "output_type": "stream",
     "text": [
      "<class 'str'> <class 'str'> <class 'str'>\n"
     ]
    },
    {
     "data": {
      "text/plain": [
       "('data', 'science', 'data \"science\" good')"
      ]
     },
     "execution_count": 9,
     "metadata": {},
     "output_type": "execute_result"
    }
   ],
   "source": [
    "a,b,c=\"data\",'science', 'data \"science\" good'\n",
    "print(type(a),type(b),type(c))\n",
    "a,b,c"
   ]
  },
  {
   "cell_type": "code",
   "execution_count": 11,
   "metadata": {},
   "outputs": [
    {
     "data": {
      "text/plain": [
       "'data\\nscience\\nschool'"
      ]
     },
     "execution_count": 11,
     "metadata": {},
     "output_type": "execute_result"
    }
   ],
   "source": [
    "# 여러 줄 \"\"\" \"\"\" or ''' '''\n",
    "\n",
    "ms=\"\"\"data\n",
    "science\n",
    "school\"\"\"\n",
    "ms"
   ]
  },
  {
   "cell_type": "code",
   "execution_count": 12,
   "metadata": {},
   "outputs": [],
   "source": [
    "# \"\"\" \"\"\"은 dogstring을 작성할 때 많이 사용됨.\n",
    "\n",
    "def test(a,b,c):\n",
    "    \"\"\"\n",
    "    a: float\n",
    "    b; string\n",
    "    c: interger\n",
    "    \"\"\""
   ]
  },
  {
   "cell_type": "code",
   "execution_count": 70,
   "metadata": {},
   "outputs": [
    {
     "data": {
      "text/plain": [
       "'data data data data data data data data data data '"
      ]
     },
     "execution_count": 70,
     "metadata": {},
     "output_type": "execute_result"
    }
   ],
   "source": [
    "# python에 있는 기능! 문자열 반복 간단하게 가능\n",
    "\n",
    "a=\"data \"*10\n",
    "a"
   ]
  },
  {
   "cell_type": "markdown",
   "metadata": {},
   "source": [
    "#### 2) 문자열 offset\n",
    "- offset: 문자열을 자르거나 특정 위치의 문자 출력 `[start:end:stride]`\n",
    "- stride에 아무것도 안 쓰면 1이 들어간 것과 같음"
   ]
  },
  {
   "cell_type": "code",
   "execution_count": 4,
   "metadata": {},
   "outputs": [
    {
     "data": {
      "text/plain": [
       "('d', 'e', 'bc', '21')"
      ]
     },
     "execution_count": 4,
     "metadata": {},
     "output_type": "execute_result"
    }
   ],
   "source": [
    "# 맨 앞은 0, 맨 뒤는 -1\n",
    "\n",
    "# s[a:b] ==> a<=x<b (뒤에껀 포함 안 됨)\n",
    "\n",
    "s=\"abcdef\"\n",
    "d=\"2015-11-21\"\n",
    "s[3], s[-2], s[1:3], d[-2:]"
   ]
  },
  {
   "cell_type": "code",
   "execution_count": 5,
   "metadata": {},
   "outputs": [
    {
     "data": {
      "text/plain": [
       "('abcdef', 'ace', 'fedcba')"
      ]
     },
     "execution_count": 5,
     "metadata": {},
     "output_type": "execute_result"
    }
   ],
   "source": [
    "# [::a] ==> a만큼 건너뛴 문자 반환\n",
    "\n",
    "# [::-1] ==> reverse 기능\n",
    "\n",
    "s[::1] , s[::2], s[::-1]"
   ]
  },
  {
   "cell_type": "code",
   "execution_count": 8,
   "metadata": {},
   "outputs": [
    {
     "data": {
      "text/plain": [
       "6"
      ]
     },
     "execution_count": 8,
     "metadata": {},
     "output_type": "execute_result"
    }
   ],
   "source": [
    "# len() --> 문자열의 길이 / 리스트 요소 개수\n",
    "\n",
    "len(s)"
   ]
  },
  {
   "cell_type": "code",
   "execution_count": 10,
   "metadata": {},
   "outputs": [
    {
     "data": {
      "text/plain": [
       "('abcdef', 'abcdef')"
      ]
     },
     "execution_count": 10,
     "metadata": {},
     "output_type": "execute_result"
    }
   ],
   "source": [
    "s[:len(s)], s[:]"
   ]
  },
  {
   "cell_type": "markdown",
   "metadata": {},
   "source": [
    "#### 3) 문자열 Method\n",
    "- [문자열함수](https://docs.python.org/3/library/stdtypes.html#string-methods)"
   ]
  },
  {
   "cell_type": "code",
   "execution_count": 11,
   "metadata": {},
   "outputs": [
    {
     "data": {
      "text/plain": [
       "'data science'"
      ]
     },
     "execution_count": 11,
     "metadata": {},
     "output_type": "execute_result"
    }
   ],
   "source": [
    "s='data science'\n",
    "s"
   ]
  },
  {
   "cell_type": "code",
   "execution_count": 20,
   "metadata": {},
   "outputs": [
    {
     "data": {
      "text/plain": [
       "'DATA SCIENCE'"
      ]
     },
     "execution_count": 20,
     "metadata": {},
     "output_type": "execute_result"
    }
   ],
   "source": [
    "s1=s.upper()\n",
    "s1"
   ]
  },
  {
   "cell_type": "code",
   "execution_count": 21,
   "metadata": {},
   "outputs": [
    {
     "data": {
      "text/plain": [
       "'data science'"
      ]
     },
     "execution_count": 21,
     "metadata": {},
     "output_type": "execute_result"
    }
   ],
   "source": [
    "s2=s.lower()\n",
    "s2"
   ]
  },
  {
   "cell_type": "code",
   "execution_count": 87,
   "metadata": {},
   "outputs": [
    {
     "data": {
      "text/plain": [
       "'data science'"
      ]
     },
     "execution_count": 87,
     "metadata": {},
     "output_type": "execute_result"
    }
   ],
   "source": [
    "# 함수 연결(chaining)해서도 쓸 수 있음\n",
    "\n",
    "s.upper().lower()"
   ]
  },
  {
   "cell_type": "code",
   "execution_count": 22,
   "metadata": {},
   "outputs": [
    {
     "data": {
      "text/plain": [
       "(1, 2, -1)"
      ]
     },
     "execution_count": 22,
     "metadata": {},
     "output_type": "execute_result"
    }
   ],
   "source": [
    "# find - 해당 문자열의 위치 (없으면 -1 반환)\n",
    "\n",
    "s.find(\"a\"),s.find(\"ta\"),s.find(\"test\")"
   ]
  },
  {
   "cell_type": "code",
   "execution_count": 23,
   "metadata": {},
   "outputs": [],
   "source": [
    "# index - find와 같지만 문자열이 없을 때 에러가 발생되게 하고 싶으면 index를 사용\n",
    "\n",
    "# s.index(),s.index(\"ta\"),s.index(\"test\")"
   ]
  },
  {
   "cell_type": "code",
   "execution_count": 95,
   "metadata": {},
   "outputs": [
    {
     "data": {
      "text/plain": [
       "(2, 1)"
      ]
     },
     "execution_count": 95,
     "metadata": {},
     "output_type": "execute_result"
    }
   ],
   "source": [
    "s.count(\"a\"), s.count(\"Data\")"
   ]
  },
  {
   "cell_type": "code",
   "execution_count": 24,
   "metadata": {},
   "outputs": [
    {
     "data": {
      "text/plain": [
       "('data science ', ' data science', 'data science')"
      ]
     },
     "execution_count": 24,
     "metadata": {},
     "output_type": "execute_result"
    }
   ],
   "source": [
    "# 공백 제거\n",
    "\n",
    "s=\" data science \"\n",
    "s.lstrip(), s.rstrip(), s.strip()"
   ]
  },
  {
   "cell_type": "code",
   "execution_count": 99,
   "metadata": {},
   "outputs": [
    {
     "data": {
      "text/plain": [
       "(' test science ', ' dete science ')"
      ]
     },
     "execution_count": 99,
     "metadata": {},
     "output_type": "execute_result"
    }
   ],
   "source": [
    "s.replace(\"data\",\"test\"), s.replace(\"a\",\"e\")"
   ]
  },
  {
   "cell_type": "code",
   "execution_count": 25,
   "metadata": {},
   "outputs": [
    {
     "data": {
      "text/plain": [
       "['', 'data', 'science', '']"
      ]
     },
     "execution_count": 25,
     "metadata": {},
     "output_type": "execute_result"
    }
   ],
   "source": [
    "# split() - 특정 문자열로 분리 후 리스트 형태로 리턴 (문자열을 단어별로 리스트로 만들고 싶을 때!!!)\n",
    "\n",
    "s.split(\" \")"
   ]
  },
  {
   "cell_type": "code",
   "execution_count": 31,
   "metadata": {},
   "outputs": [
    {
     "data": {
      "text/plain": [
       "['data', 'science']"
      ]
     },
     "execution_count": 31,
     "metadata": {},
     "output_type": "execute_result"
    }
   ],
   "source": [
    "# 함수 연결\n",
    "\n",
    "s.strip().split(\" \")"
   ]
  },
  {
   "cell_type": "code",
   "execution_count": 102,
   "metadata": {},
   "outputs": [
    {
     "data": {
      "text/plain": [
       "['data', 'science']"
      ]
     },
     "execution_count": 102,
     "metadata": {},
     "output_type": "execute_result"
    }
   ],
   "source": [
    "s=\"data,science\"\n",
    "s.split(\",\")"
   ]
  },
  {
   "cell_type": "code",
   "execution_count": 14,
   "metadata": {},
   "outputs": [
    {
     "name": "stdout",
     "output_type": "stream",
     "text": [
      "fast-campus-data-science\n"
     ]
    }
   ],
   "source": [
    "# a의 문자열들을 -로 결합\n",
    "\n",
    "a=[\"fast\",\"campus\",\"data\",\"science\"]\n",
    "print(\"-\".join(a))"
   ]
  },
  {
   "cell_type": "markdown",
   "metadata": {},
   "source": [
    "### 4.4 List\n",
    "- 순서가 있는 데이터들의 집합을 가지는 데이터 타입"
   ]
  },
  {
   "cell_type": "markdown",
   "metadata": {},
   "source": [
    "#### 1) 리스트 선언"
   ]
  },
  {
   "cell_type": "code",
   "execution_count": 1,
   "metadata": {},
   "outputs": [
    {
     "name": "stdout",
     "output_type": "stream",
     "text": [
      "<class 'list'> <class 'list'> <class 'list'>\n"
     ]
    },
    {
     "data": {
      "text/plain": [
       "(['fast', 'campus', 'data', 'science'], [1, 2, [3, 4]], [1, 'fast', True])"
      ]
     },
     "execution_count": 1,
     "metadata": {},
     "output_type": "execute_result"
    }
   ],
   "source": [
    "a=[\"fast\",\"campus\", \"data\",\"science\"]\n",
    "b=[1,2,[3,4]]\n",
    "c=[1,\"fast\",True]\n",
    "print(type(a),type(b),type(c))\n",
    "a,b,c"
   ]
  },
  {
   "cell_type": "markdown",
   "metadata": {},
   "source": [
    "#### 2) 리스트 offset"
   ]
  },
  {
   "cell_type": "code",
   "execution_count": 27,
   "metadata": {},
   "outputs": [
    {
     "data": {
      "text/plain": [
       "('campus', 'data', ['fast', 'data'], ['science', 'data', 'campus', 'fast'])"
      ]
     },
     "execution_count": 27,
     "metadata": {},
     "output_type": "execute_result"
    }
   ],
   "source": [
    "# offset 사용 가능 - 리스트 내 value 하나 하나에 대한\n",
    "\n",
    "a[1], a[-2],a[::2],a[::-1]"
   ]
  },
  {
   "cell_type": "markdown",
   "metadata": {},
   "source": [
    "#### 3) 리스트 데이터 수정\n",
    "- offset 이용!"
   ]
  },
  {
   "cell_type": "code",
   "execution_count": 28,
   "metadata": {},
   "outputs": [
    {
     "data": {
      "text/plain": [
       "['test', 'campus', 'data', 'science']"
      ]
     },
     "execution_count": 28,
     "metadata": {},
     "output_type": "execute_result"
    }
   ],
   "source": [
    "a[0]=\"test\"\n",
    "a"
   ]
  },
  {
   "cell_type": "markdown",
   "metadata": {},
   "source": [
    "#### 4) 리스트 Method"
   ]
  },
  {
   "cell_type": "code",
   "execution_count": 29,
   "metadata": {},
   "outputs": [
    {
     "data": {
      "text/plain": [
       "['test', 'campus', 'data', 'science', 'dss8']"
      ]
     },
     "execution_count": 29,
     "metadata": {},
     "output_type": "execute_result"
    }
   ],
   "source": [
    "a.append(\"dss8\") # append는 실행할 때마다 더해짐\n",
    "a"
   ]
  },
  {
   "cell_type": "code",
   "execution_count": 4,
   "metadata": {},
   "outputs": [
    {
     "data": {
      "text/plain": [
       "['fast', 'campus', 'data', 'science', '8기']"
      ]
     },
     "execution_count": 4,
     "metadata": {},
     "output_type": "execute_result"
    }
   ],
   "source": [
    "d=a.copy()\n",
    "d.extend([\"8기\"]) # extend는 더하기 개념! \n",
    "d"
   ]
  },
  {
   "cell_type": "code",
   "execution_count": 30,
   "metadata": {},
   "outputs": [
    {
     "data": {
      "text/plain": [
       "['campus', 'data', 'dss8', 'science', 'test']"
      ]
     },
     "execution_count": 30,
     "metadata": {},
     "output_type": "execute_result"
    }
   ],
   "source": [
    "# 오름차순 정렬\n",
    "# 숫자와 문자열이 섞여 있는 리스트는 sort 할 수 없음.\n",
    "\n",
    "a.sort()\n",
    "a"
   ]
  },
  {
   "cell_type": "code",
   "execution_count": 31,
   "metadata": {},
   "outputs": [
    {
     "data": {
      "text/plain": [
       "['test', 'science', 'dss8', 'data', 'campus']"
      ]
     },
     "execution_count": 31,
     "metadata": {},
     "output_type": "execute_result"
    }
   ],
   "source": [
    "# 내림차순 정렬\n",
    "\n",
    "a.reverse()\n",
    "a"
   ]
  },
  {
   "cell_type": "code",
   "execution_count": 32,
   "metadata": {},
   "outputs": [
    {
     "data": {
      "text/plain": [
       "0"
      ]
     },
     "execution_count": 32,
     "metadata": {},
     "output_type": "execute_result"
    }
   ],
   "source": [
    "a.index(\"test\")"
   ]
  },
  {
   "cell_type": "code",
   "execution_count": 33,
   "metadata": {},
   "outputs": [
    {
     "data": {
      "text/plain": [
       "['test', 'science', 'data', 'campus']"
      ]
     },
     "execution_count": 33,
     "metadata": {},
     "output_type": "execute_result"
    }
   ],
   "source": [
    "a.remove(\"dss8\") # del a[2] 와 동일!\n",
    "a"
   ]
  },
  {
   "cell_type": "code",
   "execution_count": 34,
   "metadata": {},
   "outputs": [
    {
     "data": {
      "text/plain": [
       "['test', 'dss8', 'science', 'data', 'campus']"
      ]
     },
     "execution_count": 34,
     "metadata": {},
     "output_type": "execute_result"
    }
   ],
   "source": [
    "# 특정 위치에 데이터 추가\n",
    "\n",
    "a.insert(1,\"dss8\")\n",
    "a"
   ]
  },
  {
   "cell_type": "code",
   "execution_count": 35,
   "metadata": {},
   "outputs": [
    {
     "data": {
      "text/plain": [
       "['test', 'dss8', 'science', 'data']"
      ]
     },
     "execution_count": 35,
     "metadata": {},
     "output_type": "execute_result"
    }
   ],
   "source": [
    "# 가장 마지막 값을 리턴 후 삭제\n",
    "\n",
    "a.pop()    # 가장 마지막 값만 리턴\n",
    "a    # 리턴된 값을 삭제한 리스트 출력"
   ]
  },
  {
   "cell_type": "code",
   "execution_count": null,
   "metadata": {},
   "outputs": [],
   "source": [
    "# a.pop(0) => 가장 첫번째 값 리턴 후 삭제 (Queue에서 get의 개념)"
   ]
  },
  {
   "cell_type": "markdown",
   "metadata": {},
   "source": [
    "#### 5) 리스트 Copy\n",
    "- 리스트 a를 복사할 땐 b=a가 아닌 b=a.copy() 함수를 사용해야 변경이 안 됨."
   ]
  },
  {
   "cell_type": "code",
   "execution_count": 40,
   "metadata": {},
   "outputs": [
    {
     "data": {
      "text/plain": [
       "([1, 2, 3], [1, 2, 3])"
      ]
     },
     "execution_count": 40,
     "metadata": {},
     "output_type": "execute_result"
    }
   ],
   "source": [
    "a=[1,2,3]\n",
    "b=a\n",
    "# a의 주소값을 복사\n",
    "\n",
    "a,b"
   ]
  },
  {
   "cell_type": "code",
   "execution_count": 41,
   "metadata": {},
   "outputs": [],
   "source": [
    "a[2]=10"
   ]
  },
  {
   "cell_type": "code",
   "execution_count": 42,
   "metadata": {},
   "outputs": [
    {
     "data": {
      "text/plain": [
       "([1, 2, 10], [1, 2, 10])"
      ]
     },
     "execution_count": 42,
     "metadata": {},
     "output_type": "execute_result"
    }
   ],
   "source": [
    "# b는 a와 같은 메모리를 참조 (같은 저장 공간에 두 개의 이름)\n",
    "# => a가 바뀌면 b도 바뀜\n",
    "\n",
    "a,b"
   ]
  },
  {
   "cell_type": "code",
   "execution_count": 43,
   "metadata": {},
   "outputs": [
    {
     "data": {
      "text/plain": [
       "([1, 2, 10], [1, 2, 10], [1, 2, 10])"
      ]
     },
     "execution_count": 43,
     "metadata": {},
     "output_type": "execute_result"
    }
   ],
   "source": [
    "# copy()를 하는 순간 새로운 메모리가 생성됨\n",
    "\n",
    "c=a.copy()\n",
    "a,b,c"
   ]
  },
  {
   "cell_type": "code",
   "execution_count": 44,
   "metadata": {},
   "outputs": [],
   "source": [
    "b[2]=100"
   ]
  },
  {
   "cell_type": "code",
   "execution_count": 46,
   "metadata": {},
   "outputs": [
    {
     "data": {
      "text/plain": [
       "([1, 2, 100], [1, 2, 100], [1, 2, 10])"
      ]
     },
     "execution_count": 46,
     "metadata": {},
     "output_type": "execute_result"
    }
   ],
   "source": [
    "# b를 바꾸면 a와 b는 바뀌지만,\n",
    "# C는 안 바뀜!!! b와는 다른 카피된 메모리(별도의 저장 공간)를 참조하고 있기 때문\n",
    "\n",
    "a,b,c"
   ]
  },
  {
   "cell_type": "markdown",
   "metadata": {},
   "source": [
    "### 4.5 Tuple\n",
    "- 리스트와 같이 순서가 있는 데이터 타입. 하지만 변경이 불가능\n",
    "- 튜플 쓰는 이유: 리스트보다 메모리를 적게 사용하기 때문 -> 변경할 필요 없을 땐 튜플을 씀"
   ]
  },
  {
   "cell_type": "markdown",
   "metadata": {},
   "source": [
    "#### 1) 튜플 선언"
   ]
  },
  {
   "cell_type": "code",
   "execution_count": 47,
   "metadata": {},
   "outputs": [
    {
     "data": {
      "text/plain": [
       "(tuple, (1, 2, 3, 4))"
      ]
     },
     "execution_count": 47,
     "metadata": {},
     "output_type": "execute_result"
    }
   ],
   "source": [
    "# 첫 번째 방법\n",
    "\n",
    "a=1,2,3,4\n",
    "type(a), a"
   ]
  },
  {
   "cell_type": "code",
   "execution_count": 175,
   "metadata": {},
   "outputs": [
    {
     "data": {
      "text/plain": [
       "(tuple, (1, 2, 3, 4))"
      ]
     },
     "execution_count": 175,
     "metadata": {},
     "output_type": "execute_result"
    }
   ],
   "source": [
    "# 두 번째 방법 - 보통 이렇게 많이 함\n",
    "\n",
    "b=(1,2,3,4)\n",
    "type(b), b"
   ]
  },
  {
   "cell_type": "markdown",
   "metadata": {},
   "source": [
    "#### 2) 튜플 offset"
   ]
  },
  {
   "cell_type": "code",
   "execution_count": 176,
   "metadata": {},
   "outputs": [
    {
     "data": {
      "text/plain": [
       "(2, 4, (1, 2), (2, 3, 4), (4, 3, 2, 1))"
      ]
     },
     "execution_count": 176,
     "metadata": {},
     "output_type": "execute_result"
    }
   ],
   "source": [
    "# 리스트 offset과 동일\n",
    "\n",
    "b[1], b[-1], b[:2], b[1:], b[::-1]"
   ]
  },
  {
   "cell_type": "code",
   "execution_count": 48,
   "metadata": {},
   "outputs": [],
   "source": [
    "# 데이터 변경 불가 특성 -> 변경하려고 하면 error 발생\n",
    "\n",
    "# b[1]=10"
   ]
  },
  {
   "cell_type": "code",
   "execution_count": 157,
   "metadata": {},
   "outputs": [
    {
     "name": "stdout",
     "output_type": "stream",
     "text": [
      "104 88\n"
     ]
    }
   ],
   "source": [
    "import sys \n",
    "\n",
    "ls=[1,2,3,4,5]\n",
    "tu=(1,2,3,4,5)\n",
    "\n",
    "print(sys.getsizeof(ls),sys.getsizeof(tu)) # byte\n",
    "\n",
    "# 튜플의 메모리가 더 작음을 확인"
   ]
  },
  {
   "cell_type": "markdown",
   "metadata": {},
   "source": [
    "### 4.6 Dictionary\n",
    "- 데이터에 순서가 없음. -> offset의 슬라이싱 불가\n",
    "- (key:value)의 쌍으로 이루어져 있는 데이터 타입"
   ]
  },
  {
   "cell_type": "markdown",
   "metadata": {},
   "source": [
    "#### 1) 딕셔너리 선언"
   ]
  },
  {
   "cell_type": "code",
   "execution_count": 13,
   "metadata": {},
   "outputs": [
    {
     "data": {
      "text/plain": [
       "(dict, {1: 'one', 'A': ['data', 'science'], '숫자': 1234})"
      ]
     },
     "execution_count": 13,
     "metadata": {},
     "output_type": "execute_result"
    }
   ],
   "source": [
    "dic={\n",
    "    1:\"one\",\n",
    "    \"A\":[\"data\",\"science\"],\n",
    "    \"숫자\":1234, # 맨 끝 콤마는 쓰나 안 쓰나 똑같지만, 써주는게 데이터를 추가하고자 할 때 좋음\n",
    "}\n",
    "type(dic), dic"
   ]
  },
  {
   "cell_type": "markdown",
   "metadata": {},
   "source": [
    "#### 2) 딕셔너리 수정"
   ]
  },
  {
   "cell_type": "code",
   "execution_count": 12,
   "metadata": {},
   "outputs": [
    {
     "data": {
      "text/plain": [
       "{1: '하나', 'A': ['data', 'science'], '숫자': 1234}"
      ]
     },
     "execution_count": 12,
     "metadata": {},
     "output_type": "execute_result"
    }
   ],
   "source": [
    "# offset이용, key를 이용해 value 수정\n",
    "\n",
    "dic[1]=\"하나\"\n",
    "dic"
   ]
  },
  {
   "cell_type": "code",
   "execution_count": 5,
   "metadata": {},
   "outputs": [
    {
     "data": {
      "text/plain": [
       "{'A': ['data', 'science'], '숫자': 1234}"
      ]
     },
     "execution_count": 5,
     "metadata": {},
     "output_type": "execute_result"
    }
   ],
   "source": [
    "# dic element 삭제\n",
    "\n",
    "del dic[1]\n",
    "dic"
   ]
  },
  {
   "cell_type": "markdown",
   "metadata": {},
   "source": [
    "#### 3) 딕셔너리 Method\n",
    "- 딕셔너리 함수를 이용해 리스트 데이터를 가공\n",
    "- keys, values, items, clear, get, copy, update"
   ]
  },
  {
   "cell_type": "code",
   "execution_count": 6,
   "metadata": {},
   "outputs": [
    {
     "data": {
      "text/plain": [
       "dict_keys(['A', '숫자'])"
      ]
     },
     "execution_count": 6,
     "metadata": {},
     "output_type": "execute_result"
    }
   ],
   "source": [
    "dic.keys()"
   ]
  },
  {
   "cell_type": "code",
   "execution_count": 7,
   "metadata": {
    "scrolled": true
   },
   "outputs": [
    {
     "data": {
      "text/plain": [
       "dict_values([['data', 'science'], 1234])"
      ]
     },
     "execution_count": 7,
     "metadata": {},
     "output_type": "execute_result"
    }
   ],
   "source": [
    "dic.values()"
   ]
  },
  {
   "cell_type": "code",
   "execution_count": 8,
   "metadata": {},
   "outputs": [
    {
     "data": {
      "text/plain": [
       "dict_items([('A', ['data', 'science']), ('숫자', 1234)])"
      ]
     },
     "execution_count": 8,
     "metadata": {},
     "output_type": "execute_result"
    }
   ],
   "source": [
    "dic.items() # key, value 모두 리턴 "
   ]
  },
  {
   "cell_type": "code",
   "execution_count": 9,
   "metadata": {},
   "outputs": [
    {
     "name": "stdout",
     "output_type": "stream",
     "text": [
      "A ['data', 'science']\n",
      "숫자 1234\n"
     ]
    }
   ],
   "source": [
    "# .items()는 for문에서 많이 사용하게 됨\n",
    "\n",
    "for key, value in dic.items():\n",
    "    print(key, value)"
   ]
  },
  {
   "cell_type": "code",
   "execution_count": 10,
   "metadata": {},
   "outputs": [],
   "source": [
    "# .clear() -  딕셔너리 데이터 모두 삭제\n",
    "\n",
    "# dic.clear()\n",
    "# dic"
   ]
  },
  {
   "cell_type": "code",
   "execution_count": 15,
   "metadata": {},
   "outputs": [
    {
     "data": {
      "text/plain": [
       "('one', ['data', 'science'])"
      ]
     },
     "execution_count": 15,
     "metadata": {},
     "output_type": "execute_result"
    }
   ],
   "source": [
    "# .get(key) - 해당 key의 value 값 리턴\n",
    "\n",
    "# dic[1] 없애기 전 dic를 다시 선언 후 봐주기.\n",
    "\n",
    "dic.get(1), dic.get(\"A\")"
   ]
  },
  {
   "cell_type": "code",
   "execution_count": 16,
   "metadata": {},
   "outputs": [
    {
     "data": {
      "text/plain": [
       "'no data'"
      ]
     },
     "execution_count": 16,
     "metadata": {},
     "output_type": "execute_result"
    }
   ],
   "source": [
    "# dic[3] 처럼 없는 key를 입력하면 error 발생\n",
    "# key에 3이 없으면 \"no data\" 리턴하도록 하고 싶을 때 get 이용\n",
    "\n",
    "dic.get(3, \"no data\")"
   ]
  },
  {
   "cell_type": "code",
   "execution_count": 70,
   "metadata": {},
   "outputs": [
    {
     "data": {
      "text/plain": [
       "({1: 'one', 'A': ['data', 'science'], '숫자': 1234},\n",
       " {1: 'one', 'A': ['data', 'science'], '숫자': 1234})"
      ]
     },
     "execution_count": 70,
     "metadata": {},
     "output_type": "execute_result"
    }
   ],
   "source": [
    "dic2=dic\n",
    "dic, dic2"
   ]
  },
  {
   "cell_type": "code",
   "execution_count": 71,
   "metadata": {},
   "outputs": [
    {
     "data": {
      "text/plain": [
       "({1: '하나', 'A': ['data', 'science'], '숫자': 1234},\n",
       " {1: '하나', 'A': ['data', 'science'], '숫자': 1234})"
      ]
     },
     "execution_count": 71,
     "metadata": {},
     "output_type": "execute_result"
    }
   ],
   "source": [
    "dic[1]=\"하나\" # 이렇게 하면 둘다 바뀜. copy()함수를 써야 둘다 바뀌는 걸 방지!\n",
    "dic, dic2"
   ]
  },
  {
   "cell_type": "code",
   "execution_count": 74,
   "metadata": {
    "scrolled": true
   },
   "outputs": [
    {
     "data": {
      "text/plain": [
       "({1: '하나', 'A': ['data', 'science'], '숫자': 1234},\n",
       " {1: '하나', 'A': ['data', 'science'], '숫자': 1234})"
      ]
     },
     "execution_count": 74,
     "metadata": {},
     "output_type": "execute_result"
    }
   ],
   "source": [
    "# copy\n",
    "\n",
    "dic3=dic.copy()\n",
    "dic, dic3"
   ]
  },
  {
   "cell_type": "code",
   "execution_count": 76,
   "metadata": {},
   "outputs": [
    {
     "data": {
      "text/plain": [
       "({1: 'one', 'A': ['data', 'science'], '숫자': 1234},\n",
       " {1: '하나', 'A': ['data', 'science'], '숫자': 1234})"
      ]
     },
     "execution_count": 76,
     "metadata": {},
     "output_type": "execute_result"
    }
   ],
   "source": [
    "dic[1]=\"one\" # dic3는 바뀌지 않음! 다른 메모리를 참조하기 때문\n",
    "dic, dic3"
   ]
  },
  {
   "cell_type": "code",
   "execution_count": 77,
   "metadata": {},
   "outputs": [
    {
     "data": {
      "text/plain": [
       "({1: 'a', 2: 'b'}, {2: 'c', 3: 'd'})"
      ]
     },
     "execution_count": 77,
     "metadata": {},
     "output_type": "execute_result"
    }
   ],
   "source": [
    "# update - 두 개의 데이터를 합치고 싶을 때 사용\n",
    "\n",
    "a={1:\"a\",2:\"b\"}\n",
    "b={2:\"c\",3:\"d\"}\n",
    "a,b"
   ]
  },
  {
   "cell_type": "code",
   "execution_count": 79,
   "metadata": {},
   "outputs": [
    {
     "data": {
      "text/plain": [
       "{1: 'a', 2: 'c', 3: 'd'}"
      ]
     },
     "execution_count": 79,
     "metadata": {},
     "output_type": "execute_result"
    }
   ],
   "source": [
    "# a와 b에 같은 키가 있으면 value를 업데이트!\n",
    "# a에 키가 없으면 그 데이터(key:value)를 추가 \n",
    "\n",
    "a.update(b) \n",
    "a"
   ]
  },
  {
   "cell_type": "markdown",
   "metadata": {},
   "source": [
    "### 4.7 Set\n",
    "- 중복되는 데이터가 없는 '집합' 형태의 데이터 타입\n",
    "- 리스트 데이터에서 중복을 제거할 때 많이 활용\n",
    "- 교집합, 합집합, 차집합과 같은 집합의 '연산'도 가능\n",
    "- 순서가 있는 데이터 타입이 아님!"
   ]
  },
  {
   "cell_type": "markdown",
   "metadata": {},
   "source": [
    "#### 1) 선언\n",
    ": 리스트 형태의 데이터를 set()으로 형변환 해주는 방법으로 선언 (그리고 변수에 할당)"
   ]
  },
  {
   "cell_type": "code",
   "execution_count": 44,
   "metadata": {
    "scrolled": true
   },
   "outputs": [
    {
     "data": {
      "text/plain": [
       "(set, {1, 2, 3, 4, 5})"
      ]
     },
     "execution_count": 44,
     "metadata": {},
     "output_type": "execute_result"
    }
   ],
   "source": [
    "s=set([1,2,3,4,5,1,3,5]) # 중복되는 값을 제거해줌\n",
    "type(s), s"
   ]
  },
  {
   "cell_type": "markdown",
   "metadata": {},
   "source": [
    "#### 2) 집합의 연산"
   ]
  },
  {
   "cell_type": "code",
   "execution_count": 32,
   "metadata": {},
   "outputs": [
    {
     "name": "stdout",
     "output_type": "stream",
     "text": [
      "{3, 4}\n",
      "{3, 4}\n"
     ]
    }
   ],
   "source": [
    "s1=set([1,2,3,4])\n",
    "s2=set([3,4,5,6])\n",
    "\n",
    "# 교집합 - & , intersection\n",
    "\n",
    "print(s1&s2) \n",
    "print(s1.intersection(s2))"
   ]
  },
  {
   "cell_type": "code",
   "execution_count": 33,
   "metadata": {},
   "outputs": [
    {
     "name": "stdout",
     "output_type": "stream",
     "text": [
      "{1, 2, 3, 4, 5, 6}\n",
      "{1, 2, 3, 4, 5, 6}\n"
     ]
    }
   ],
   "source": [
    "# 합집합 - | (shift+역슬래시) , union\n",
    "\n",
    "print(s1|s2)\n",
    "print(s1.union(s2))"
   ]
  },
  {
   "cell_type": "code",
   "execution_count": 34,
   "metadata": {},
   "outputs": [
    {
     "name": "stdout",
     "output_type": "stream",
     "text": [
      "{1, 2}\n",
      "{1, 2}\n"
     ]
    }
   ],
   "source": [
    "# 차집합 - - , difference\n",
    "\n",
    "print(s1-s2)\n",
    "print(s1.difference(s2))"
   ]
  },
  {
   "cell_type": "markdown",
   "metadata": {},
   "source": [
    "#### 3) set 데이터 수정"
   ]
  },
  {
   "cell_type": "code",
   "execution_count": 45,
   "metadata": {},
   "outputs": [
    {
     "data": {
      "text/plain": [
       "{1, 3, 4, 5, 10}"
      ]
     },
     "execution_count": 45,
     "metadata": {},
     "output_type": "execute_result"
    }
   ],
   "source": [
    "# 순서가 없기 때문에 offeset 이용 불가\n",
    "# => 리스트로 변환 후 offset으로 수정하고 다시 set으로 형 변환 해야 함\n",
    "\n",
    "# (수정할 거면 set을 애초에 쓰지 않지만..)\n",
    "\n",
    "s=list(s)\n",
    "s[1]=10\n",
    "s=set(s)\n",
    "s\n",
    "\n",
    "# list(s) 1번째에 2를 10으로 수정. set은 순서가 상관없기 때문에 10이 어디든 들어갈 수 있음.\n",
    "# 여기선 자동으로 오름차순 정렬한 듯."
   ]
  },
  {
   "cell_type": "markdown",
   "metadata": {},
   "source": [
    "## 5. 데이터 형변환\n",
    "- 데이터 타입을 다른 데이터 타입으로 바꾸는 것\n",
    "- 바꾸려는 데이터 타입에 따라서 형변환이 되는 것도 있고 안 되는 것도 있음."
   ]
  },
  {
   "cell_type": "markdown",
   "metadata": {},
   "source": [
    "### 5.1 문자열 <-> 숫자"
   ]
  },
  {
   "cell_type": "code",
   "execution_count": 46,
   "metadata": {},
   "outputs": [
    {
     "data": {
      "text/plain": [
       "(str, '1234', int, 1234)"
      ]
     },
     "execution_count": 46,
     "metadata": {},
     "output_type": "execute_result"
    }
   ],
   "source": [
    "# int() - 숫자로 된 문자열 -> 숫자\n",
    "\n",
    "s=\"1234\"\n",
    "n=int(s) \n",
    "type(s),s,type(n),n"
   ]
  },
  {
   "cell_type": "code",
   "execution_count": 47,
   "metadata": {
    "scrolled": true
   },
   "outputs": [
    {
     "data": {
      "text/plain": [
       "1235"
      ]
     },
     "execution_count": 47,
     "metadata": {},
     "output_type": "execute_result"
    }
   ],
   "source": [
    "int(s)+1\n",
    "\n",
    "# s+1 은 에러! (문자+숫자 안 됨)"
   ]
  },
  {
   "cell_type": "code",
   "execution_count": 48,
   "metadata": {},
   "outputs": [
    {
     "data": {
      "text/plain": [
       "'12341234'"
      ]
     },
     "execution_count": 48,
     "metadata": {},
     "output_type": "execute_result"
    }
   ],
   "source": [
    "# str() - 숫자 -> 문자열\n",
    "\n",
    "s+str(n) "
   ]
  },
  {
   "cell_type": "markdown",
   "metadata": {},
   "source": [
    "### 5.2 boolean 형변환 \n",
    "- bool() - 데이터 존재의 유무 판단"
   ]
  },
  {
   "cell_type": "code",
   "execution_count": 49,
   "metadata": {},
   "outputs": [
    {
     "data": {
      "text/plain": [
       "(False, True)"
      ]
     },
     "execution_count": 49,
     "metadata": {},
     "output_type": "execute_result"
    }
   ],
   "source": [
    "bool([]), bool([1,2,3]) # 리스트 데이터가 없으면([]) False"
   ]
  },
  {
   "cell_type": "code",
   "execution_count": 50,
   "metadata": {},
   "outputs": [
    {
     "data": {
      "text/plain": [
       "(True, False)"
      ]
     },
     "execution_count": 50,
     "metadata": {},
     "output_type": "execute_result"
    }
   ],
   "source": [
    "bool(-1), bool(0) # 숫자 0은 False"
   ]
  },
  {
   "cell_type": "code",
   "execution_count": 51,
   "metadata": {},
   "outputs": [
    {
     "data": {
      "text/plain": [
       "(False, True)"
      ]
     },
     "execution_count": 51,
     "metadata": {},
     "output_type": "execute_result"
    }
   ],
   "source": [
    "bool(\"\"), bool(\"asdf\") # 문자열 데이터가 없으면(\"\" ) False"
   ]
  },
  {
   "cell_type": "code",
   "execution_count": 55,
   "metadata": {},
   "outputs": [
    {
     "name": "stdout",
     "output_type": "stream",
     "text": [
      "b is data\n"
     ]
    }
   ],
   "source": [
    "a,b=\"\",\"a\"\n",
    "\n",
    "# if 문 내에서 자동으로 boolean으로 변환해서 T/F를 봐줌\n",
    "\n",
    "if a:     # a가 True면 밑에 code 반환\n",
    "    print(\"a is data\")\n",
    "if b:\n",
    "    print(\"b is data\")\n",
    "    \n",
    "# a는 데이터가 비어있어 False이기 때문에 반환 안 함."
   ]
  },
  {
   "cell_type": "markdown",
   "metadata": {},
   "source": [
    "### 5.3 문자열 <-> 리스트"
   ]
  },
  {
   "cell_type": "code",
   "execution_count": 56,
   "metadata": {},
   "outputs": [
    {
     "data": {
      "text/plain": [
       "['d', 'a', 't', 'a']"
      ]
     },
     "execution_count": 56,
     "metadata": {},
     "output_type": "execute_result"
    }
   ],
   "source": [
    "# list() - 문자 하나하나가 리스트 내 데이터가 됨\n",
    "\n",
    "s=\"data\"\n",
    "list(s)"
   ]
  },
  {
   "cell_type": "code",
   "execution_count": 2,
   "metadata": {
    "scrolled": true
   },
   "outputs": [
    {
     "name": "stdout",
     "output_type": "stream",
     "text": [
      "['Hello', 'World!']\n"
     ]
    }
   ],
   "source": [
    "# split() - 문자열 -> 리스트 \n",
    "        # 특정 문자를 기준으로 문자열을 쪼개어 리스트로 변환 시켜줌.\n",
    "\n",
    "message=\"Hello World!\"\n",
    "print(message.split())"
   ]
  },
  {
   "cell_type": "code",
   "execution_count": 48,
   "metadata": {},
   "outputs": [
    {
     "name": "stdout",
     "output_type": "stream",
     "text": [
      "Hello World!\n",
      "Hello,World!\n",
      "Hello, World!\n"
     ]
    }
   ],
   "source": [
    "# join() - 리스트 -> 문자열\n",
    "        # join은 split와 반대로, 특정 문자의 삽입으로 리스트를 합쳐 하나의 문자열로 만들어줌.\n",
    "\n",
    "words=[\"Hello\", \"World!\"]\n",
    "print(\" \".join(words))\n",
    "print(\",\".join(words))\n",
    "print(\", \".join(words))"
   ]
  },
  {
   "cell_type": "markdown",
   "metadata": {},
   "source": [
    "### 5.4 튜플 <-> 딕셔너리"
   ]
  },
  {
   "cell_type": "code",
   "execution_count": 58,
   "metadata": {},
   "outputs": [
    {
     "data": {
      "text/plain": [
       "{'1': 'one', 2: 'two'}"
      ]
     },
     "execution_count": 58,
     "metadata": {},
     "output_type": "execute_result"
    }
   ],
   "source": [
    "# dict() - 튜플 -> 딕셔너리\n",
    "\n",
    "# (key, value) 형태의 튜플을 딕셔너리로 형변환\n",
    "\n",
    "t=((\"1\",\"one\"),(2,\"two\"))\n",
    "d=dict(t)\n",
    "d"
   ]
  },
  {
   "cell_type": "code",
   "execution_count": 62,
   "metadata": {},
   "outputs": [
    {
     "data": {
      "text/plain": [
       "(('1', 'one'), (2, 'two'))"
      ]
     },
     "execution_count": 62,
     "metadata": {},
     "output_type": "execute_result"
    }
   ],
   "source": [
    "# tuple(.items()) - 딕셔너리 -> 튜플\n",
    "\n",
    "# tuple(d)라고만 하면 key만 형변환되므로, tuple(d.items())를 이용해 key, value 모두 형변환하기\n",
    "\n",
    "tuple(d.items())"
   ]
  },
  {
   "cell_type": "markdown",
   "metadata": {},
   "source": [
    "## 6. 연산자\n",
    "- 산술, 비교, 할당, 비트, 논리, 멤버, 식별"
   ]
  },
  {
   "cell_type": "markdown",
   "metadata": {},
   "source": [
    "### 6.1 산술 연산자 \n",
    "- +, -, `*`, /, //(몫), %(나머지), **(제곱)"
   ]
  },
  {
   "cell_type": "code",
   "execution_count": 63,
   "metadata": {},
   "outputs": [
    {
     "name": "stdout",
     "output_type": "stream",
     "text": [
      "2.5\n",
      "2\n",
      "1\n",
      "25\n",
      "1.4142135623730951\n"
     ]
    }
   ],
   "source": [
    "print(5/2)\n",
    "print(5//2)\n",
    "print(5%2)\n",
    "print(5**2)\n",
    "print(2**0.5) # 루트 2는 **0.5를 이용"
   ]
  },
  {
   "cell_type": "markdown",
   "metadata": {},
   "source": [
    "### 6.2 비교 연산자 \n",
    "- ==, !=, >(초과), <, >=(이상), <="
   ]
  },
  {
   "cell_type": "code",
   "execution_count": 11,
   "metadata": {},
   "outputs": [
    {
     "name": "stdout",
     "output_type": "stream",
     "text": [
      "False\n",
      "True\n",
      "False\n",
      "True\n",
      "True\n",
      "False\n",
      "True\n"
     ]
    }
   ],
   "source": [
    "a,b,c=10,20,10\n",
    "\n",
    "print(a==b)\n",
    "print(a!=b)\n",
    "print(a>b)\n",
    "print(a<b)\n",
    "print(a>=c)\n",
    "print(a<c)\n",
    "print(a<=c)"
   ]
  },
  {
   "cell_type": "markdown",
   "metadata": {},
   "source": [
    "### 6.3 할당 연산자\n",
    "- 산술 연산자 & =\n",
    "- =, +=, -=, `*=`, /=, %=, //=, **=\n",
    "- for 문에서 많이 활용"
   ]
  },
  {
   "cell_type": "code",
   "execution_count": 68,
   "metadata": {},
   "outputs": [
    {
     "name": "stdout",
     "output_type": "stream",
     "text": [
      "5\n",
      "15\n",
      "10\n",
      "100\n",
      "20.0\n",
      "4.0\n"
     ]
    }
   ],
   "source": [
    "a=5\n",
    "print(a)\n",
    "\n",
    "a+=10 # a에 10을 추가한 값을 다시 a에 대입 (a=a+10 과 같지만 할당 연산자를 이용하는 게 더 좋음)\n",
    "print(a)\n",
    "\n",
    "a-=5\n",
    "print(a)\n",
    "\n",
    "a*=10\n",
    "print(a)\n",
    "\n",
    "a/=5\n",
    "print(a)\n",
    "\n",
    "a%=8\n",
    "print(a)"
   ]
  },
  {
   "cell_type": "code",
   "execution_count": 69,
   "metadata": {},
   "outputs": [
    {
     "data": {
      "text/plain": [
       "15"
      ]
     },
     "execution_count": 69,
     "metadata": {},
     "output_type": "execute_result"
    }
   ],
   "source": [
    "# for문을 이용해 누적해서 계산할 때 많이 사용.\n",
    "\n",
    "a=0\n",
    "for num in range(1,6):\n",
    "    a+=num\n",
    "a\n",
    "\n",
    "# 1에서 5까지 1+2+3+4+5 계산"
   ]
  },
  {
   "cell_type": "markdown",
   "metadata": {},
   "source": [
    "### 6.4 비트 연산자 \n",
    "- &, |, ^, ~, <<, >>\n",
    "- 0,1 (이진수)로 바로 연산해서 속도가 빠름.\n",
    "- 이용할 일은 없을 것.."
   ]
  },
  {
   "cell_type": "code",
   "execution_count": 70,
   "metadata": {
    "scrolled": true
   },
   "outputs": [
    {
     "name": "stdout",
     "output_type": "stream",
     "text": [
      "1 0b1\n",
      "7 0b111\n",
      "6 0b110\n",
      "-4 -0b100\n",
      "12 0b1100\n",
      "1 0b1\n"
     ]
    }
   ],
   "source": [
    "a=3 #3의 이진수 011\n",
    "b=5 #5의 이진수 101\n",
    "\n",
    "print(a&b, bin(a&b)) # - 둘 다 1이어야 1, 하나라도 0이면 0\n",
    "# 1 : 001 \n",
    "# bin은 10진수를 2진수로 변환 (문자열)\n",
    "# 1이라는 10진수를 2진수로 변환한게 0b1 (0b는 2진수를 나타냄. cf. 0o는 8진수, 0x는 16진수)\n",
    "\n",
    "print(a|b, bin(a|b))  # - 둘 중 하나만 1이면 1\n",
    "# 7 :111\n",
    "\n",
    "print(a^b, bin(a^b)) # - 자릿수가 다르면 1, 같으면 0\n",
    "#: 7 : 110\n",
    "# exclusive or 연산 (or의 반대) \n",
    "\n",
    "print(~a, bin(~a)) \n",
    "# 보수. 논리회로 개념 알 필요 없음..\n",
    "# 3의 보수는 -4\n",
    "\n",
    "print(a<<2, bin(a<<2))\n",
    "print(b>>2, bin(b>>2)) \n",
    "# a<<2 왼쪽으로 두칸 011이 1100이 됨. => <<은 * 2**n >>은 / 2**n"
   ]
  },
  {
   "cell_type": "markdown",
   "metadata": {},
   "source": [
    "### 6.5 논리 연산자 \n",
    "- and, or, not => 조건문에서 사용"
   ]
  },
  {
   "cell_type": "code",
   "execution_count": 71,
   "metadata": {},
   "outputs": [
    {
     "name": "stdout",
     "output_type": "stream",
     "text": [
      "True\n",
      "False\n",
      "True\n",
      "True\n",
      "True\n",
      "False\n"
     ]
    }
   ],
   "source": [
    "print(True and True)\n",
    "print(True and False)\n",
    "\n",
    "print(True or True)\n",
    "print(True or False)\n",
    "\n",
    "# print(a<b or c>d) 형태로 사용\n",
    "\n",
    "print(not(False)) # F -> T로 바꿈\n",
    "print(not(True)) # T -> F로 바꿈"
   ]
  },
  {
   "cell_type": "markdown",
   "metadata": {},
   "source": [
    "### 6.6 멤버 연산자 \n",
    "- in, not in"
   ]
  },
  {
   "cell_type": "code",
   "execution_count": 73,
   "metadata": {},
   "outputs": [
    {
     "name": "stdout",
     "output_type": "stream",
     "text": [
      "True\n",
      "False\n",
      "False\n",
      "True\n"
     ]
    }
   ],
   "source": [
    "a=[1,2,3,4]\n",
    "\n",
    "print(1 in a)\n",
    "print(5 in a)\n",
    "\n",
    "print(1 not in a)\n",
    "print(5 not in a)"
   ]
  },
  {
   "cell_type": "markdown",
   "metadata": {},
   "source": [
    "### 6.7 식별 연산자 \n",
    "- is, is not (값을 봐주는 ==, !=와 달리 주소값을 비교)"
   ]
  },
  {
   "cell_type": "code",
   "execution_count": 7,
   "metadata": {},
   "outputs": [
    {
     "name": "stdout",
     "output_type": "stream",
     "text": [
      "True\n",
      "False\n"
     ]
    }
   ],
   "source": [
    "x=300\n",
    "y=300\n",
    "\n",
    "print(x==y)\n",
    "print(x is y) # 숫자 -> x와 y는 서로 다른 메모리"
   ]
  },
  {
   "cell_type": "code",
   "execution_count": 8,
   "metadata": {},
   "outputs": [
    {
     "name": "stdout",
     "output_type": "stream",
     "text": [
      "True\n",
      "True\n"
     ]
    }
   ],
   "source": [
    "d=\"a\"\n",
    "e=\"a\"\n",
    "\n",
    "print(d==e)\n",
    "print(d is e) # 문자열 -> d와 e는 서로 같은 값"
   ]
  },
  {
   "cell_type": "code",
   "execution_count": 79,
   "metadata": {},
   "outputs": [
    {
     "name": "stdout",
     "output_type": "stream",
     "text": [
      "True\n"
     ]
    }
   ],
   "source": [
    "a=[1,2,3]\n",
    "b=a\n",
    "print(a is b) # 리스트 => a와 b는 서로 같은 메모리"
   ]
  },
  {
   "cell_type": "code",
   "execution_count": 80,
   "metadata": {},
   "outputs": [
    {
     "name": "stdout",
     "output_type": "stream",
     "text": [
      "False\n"
     ]
    }
   ],
   "source": [
    "c=a.copy()\n",
    "print(a is c)\n",
    "\n",
    "# 즉, 컬렉션 데이터 타입은 주소값을 비교하기 때문에 \n",
    "# a와 다른 공간인(다른 주소값을 갖는) c는 a와 같지 않음!"
   ]
  },
  {
   "cell_type": "code",
   "execution_count": null,
   "metadata": {},
   "outputs": [],
   "source": []
  }
 ],
 "metadata": {
  "kernelspec": {
   "display_name": "Python 3",
   "language": "python",
   "name": "python3"
  },
  "language_info": {
   "codemirror_mode": {
    "name": "ipython",
    "version": 3
   },
   "file_extension": ".py",
   "mimetype": "text/x-python",
   "name": "python",
   "nbconvert_exporter": "python",
   "pygments_lexer": "ipython3",
   "version": "3.6.4"
  }
 },
 "nbformat": 4,
 "nbformat_minor": 2
}
