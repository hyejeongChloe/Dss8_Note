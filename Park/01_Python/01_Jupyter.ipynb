{
 "cells": [
  {
   "cell_type": "markdown",
   "metadata": {},
   "source": [
    "# Jupyter Notebook 사용방법"
   ]
  },
  {
   "cell_type": "markdown",
   "metadata": {},
   "source": [
    "## 1. Mode\n",
    "- Esc -> 명령모드로\n",
    "- Enter -> 편집모드로\n",
    "\n",
    "### 1.1 명령모드 (command mode)\n",
    "- 셀에 대한 편집"
   ]
  },
  {
   "cell_type": "markdown",
   "metadata": {},
   "source": [
    "- dd: 셀 삭제\n",
    "- a: 위에 새로운 셀 생성 / b: 아래에 새로운 셀 생성\n",
    "- m: Markdown으로 / y: Code로\n",
    "- l: 셀의 라인 표시"
   ]
  },
  {
   "cell_type": "code",
   "execution_count": 1,
   "metadata": {},
   "outputs": [
    {
     "data": {
      "text/plain": [
       "3"
      ]
     },
     "execution_count": 1,
     "metadata": {},
     "output_type": "execute_result"
    }
   ],
   "source": [
    "# 셀의 라인 표시\n",
    "1+2\n",
    "1+2\n",
    "1+2\n",
    "1+2"
   ]
  },
  {
   "cell_type": "markdown",
   "metadata": {},
   "source": [
    "### 1.2 편집모드 (edit mode)\n",
    "- 셀 내부 내용 편집"
   ]
  },
  {
   "cell_type": "markdown",
   "metadata": {},
   "source": [
    "- shift+Enter: 코드 실행 + 다음 셀 이동\n",
    "- ctrl+Enter: 코드 실행만\n",
    "- alt+Enter: 코드 실행 + 아래 셀 생성"
   ]
  },
  {
   "cell_type": "code",
   "execution_count": 2,
   "metadata": {},
   "outputs": [
    {
     "data": {
      "text/plain": [
       "3"
      ]
     },
     "execution_count": 2,
     "metadata": {},
     "output_type": "execute_result"
    }
   ],
   "source": [
    "1+2"
   ]
  },
  {
   "cell_type": "markdown",
   "metadata": {},
   "source": [
    "- tab: 명령어 자동완성 리스트\n",
    "- shift+tab: 함수/클래스 내부 정보(Docstring) 보기\n",
    "- (함수/클래스)?: 위와 동일\n",
    "- (함수/클래스)??: 코드(소스) 보기"
   ]
  },
  {
   "cell_type": "code",
   "execution_count": 2,
   "metadata": {},
   "outputs": [
    {
     "data": {
      "text/plain": [
       "3"
      ]
     },
     "execution_count": 2,
     "metadata": {},
     "output_type": "execute_result"
    }
   ],
   "source": [
    "def test():\n",
    "    \"this is test function\"\n",
    "    return 1+2\n",
    "test()"
   ]
  },
  {
   "cell_type": "code",
   "execution_count": 3,
   "metadata": {},
   "outputs": [],
   "source": [
    "test?"
   ]
  },
  {
   "cell_type": "code",
   "execution_count": 5,
   "metadata": {},
   "outputs": [],
   "source": [
    "test??"
   ]
  },
  {
   "cell_type": "markdown",
   "metadata": {},
   "source": [
    "## 2. Markdown"
   ]
  },
  {
   "cell_type": "markdown",
   "metadata": {},
   "source": [
    "### 2.1 머릿말(Heading)\n",
    "- #+space"
   ]
  },
  {
   "cell_type": "markdown",
   "metadata": {},
   "source": [
    "# head\n",
    "## head\n",
    "### head\n",
    "#### head\n",
    "##### head\n",
    "###### head (1~5개까지만 가능)"
   ]
  },
  {
   "cell_type": "markdown",
   "metadata": {},
   "source": [
    "### 2.2 인용(Blockquotes)\n",
    "- >\n",
    "- 들여쓰기"
   ]
  },
  {
   "cell_type": "markdown",
   "metadata": {},
   "source": [
    ">dss\n",
    ">>datascience"
   ]
  },
  {
   "cell_type": "markdown",
   "metadata": {},
   "source": [
    "### 2.3 리스트(List)\n",
    "- -, *+space"
   ]
  },
  {
   "cell_type": "markdown",
   "metadata": {},
   "source": [
    "- sum\n",
    "- data\n",
    "- science\n",
    "    * dss8"
   ]
  },
  {
   "cell_type": "markdown",
   "metadata": {},
   "source": [
    "### 2.4 코드(Code Block)\n",
    "- 한 줄은 ``(물결 키), 여러 줄은 ``````(세 개씩)\n",
    "- 코드 블럭 안에서는 -,*,> 등의 기호가 그대로 나타남."
   ]
  },
  {
   "cell_type": "code",
   "execution_count": 6,
   "metadata": {},
   "outputs": [],
   "source": [
    "# `-test`\n",
    "\n",
    "# ```\n",
    "# def test():\n",
    "#    return 100\n",
    "# ```\n",
    "\n",
    "# ```\n",
    "\n",
    "# - code\n",
    "# * list\n",
    "# > code\n",
    "# ```"
   ]
  },
  {
   "cell_type": "markdown",
   "metadata": {},
   "source": [
    "`-test`\n",
    "\n",
    "```\n",
    "def test():\n",
    "    return 100\n",
    "```\n",
    "\n",
    "```\n",
    "\n",
    "- code\n",
    "* list\n",
    "> code\n",
    "```"
   ]
  },
  {
   "cell_type": "markdown",
   "metadata": {},
   "source": [
    "### 2.5 링크(Link)\n",
    "- URL 링크 연결"
   ]
  },
  {
   "cell_type": "code",
   "execution_count": 7,
   "metadata": {},
   "outputs": [],
   "source": [
    "# [text](link) 형태\n",
    "# [Google](https://www.google.com)"
   ]
  },
  {
   "cell_type": "markdown",
   "metadata": {},
   "source": [
    "[Google](https://www.google.com)"
   ]
  },
  {
   "cell_type": "markdown",
   "metadata": {},
   "source": [
    "### 2.6 가로선 긋기\n",
    "- '- 3개'"
   ]
  },
  {
   "cell_type": "code",
   "execution_count": 8,
   "metadata": {},
   "outputs": [],
   "source": [
    "# ---"
   ]
  },
  {
   "cell_type": "markdown",
   "metadata": {},
   "source": [
    "### data science\n",
    "- data\n",
    "- science\n",
    "---\n",
    "\n",
    "### programming"
   ]
  },
  {
   "cell_type": "markdown",
   "metadata": {},
   "source": [
    "## 3. Magic Command\n",
    "- %(command) 한 줄 \n",
    "- %%(command) 여러 줄"
   ]
  },
  {
   "cell_type": "code",
   "execution_count": 9,
   "metadata": {},
   "outputs": [
    {
     "data": {
      "text/plain": [
       "'C:\\\\Users\\\\Hyejeong Kim\\\\fc_dss'"
      ]
     },
     "execution_count": 9,
     "metadata": {},
     "output_type": "execute_result"
    }
   ],
   "source": [
    "%pwd # 현재 위치"
   ]
  },
  {
   "cell_type": "code",
   "execution_count": 10,
   "metadata": {},
   "outputs": [
    {
     "name": "stdout",
     "output_type": "stream",
     "text": [
      " C 드라이브의 볼륨: Local Disk\n",
      " 볼륨 일련 번호: 9EFF-A5BF\n",
      "\n",
      " C:\\Users\\Hyejeong Kim\\fc_dss 디렉터리\n",
      "\n",
      "2018-04-24  오후 05:12    <DIR>          .\n",
      "2018-04-24  오후 05:12    <DIR>          ..\n",
      "2018-04-24  오후 03:03    <DIR>          .ipynb_checkpoints\n",
      "2018-04-24  오후 02:59                42 dss\n",
      "2018-04-24  오후 05:12            23,898 Jupyter.ipynb\n",
      "2018-04-24  오후 04:51            32,204 Python_Syntax.ipynb\n",
      "               3개 파일              56,144 바이트\n",
      "               3개 디렉터리  10,260,914,176 바이트 남음\n"
     ]
    }
   ],
   "source": [
    "%ls\n",
    "# 현재 디렉토리 파일 조회"
   ]
  },
  {
   "cell_type": "code",
   "execution_count": 11,
   "metadata": {},
   "outputs": [],
   "source": [
    "a=1234\n",
    "b=\"data\""
   ]
  },
  {
   "cell_type": "code",
   "execution_count": 12,
   "metadata": {},
   "outputs": [
    {
     "name": "stdout",
     "output_type": "stream",
     "text": [
      "Variable   Type        Data/Info\n",
      "--------------------------------\n",
      "a          int         1234\n",
      "b          str         data\n",
      "test       function    <function test at 0x0000000005813400>\n"
     ]
    }
   ],
   "source": [
    "%whos \n",
    "# 현재 정의된 변수 확인"
   ]
  },
  {
   "cell_type": "code",
   "execution_count": 13,
   "metadata": {},
   "outputs": [
    {
     "name": "stdout",
     "output_type": "stream",
     "text": [
      "Once deleted, variables cannot be recovered. Proceed (y/[n])? y\n"
     ]
    }
   ],
   "source": [
    "%reset\n",
    "# 현재 정의된 변수 삭제"
   ]
  },
  {
   "cell_type": "code",
   "execution_count": 14,
   "metadata": {},
   "outputs": [
    {
     "name": "stdout",
     "output_type": "stream",
     "text": [
      "Interactive namespace is empty.\n"
     ]
    }
   ],
   "source": [
    "# reset해서 empty\n",
    "\n",
    "%whos"
   ]
  },
  {
   "cell_type": "code",
   "execution_count": 47,
   "metadata": {},
   "outputs": [
    {
     "name": "stdout",
     "output_type": "stream",
     "text": [
      "Wall time: 0 ns\n"
     ]
    }
   ],
   "source": [
    "%time\n",
    "c=2**10000\n",
    "\n",
    "# 실행 시간"
   ]
  },
  {
   "cell_type": "code",
   "execution_count": 49,
   "metadata": {},
   "outputs": [
    {
     "name": "stdout",
     "output_type": "stream",
     "text": [
      "Wall time: 0 ns\n"
     ]
    }
   ],
   "source": [
    "%%time\n",
    "d=2**100000"
   ]
  },
  {
   "cell_type": "code",
   "execution_count": 17,
   "metadata": {},
   "outputs": [
    {
     "name": "stdout",
     "output_type": "stream",
     "text": [
      "31.4 ns ± 0.546 ns per loop (mean ± std. dev. of 7 runs, 10000000 loops each)\n"
     ]
    }
   ],
   "source": [
    "%%timeit\n",
    "c=2**100000\n",
    "\n",
    "# 평균 실행 시간"
   ]
  },
  {
   "cell_type": "code",
   "execution_count": 18,
   "metadata": {},
   "outputs": [],
   "source": [
    "# 파일 작성(writefile) 후 파일 안에 코드 저장"
   ]
  },
  {
   "cell_type": "code",
   "execution_count": 53,
   "metadata": {},
   "outputs": [
    {
     "name": "stdout",
     "output_type": "stream",
     "text": [
      "Writing test.py\n"
     ]
    }
   ],
   "source": [
    "%%writefile test.py\n",
    "def test():\n",
    "    return 100\n",
    "print(test())"
   ]
  },
  {
   "cell_type": "code",
   "execution_count": null,
   "metadata": {},
   "outputs": [],
   "source": [
    "# %load test.py\n",
    "def test():\n",
    "    return 100\n",
    "print(test())\n",
    "\n",
    "# 저장된 파일 호출 -> 파일 내 코드를 불러옴"
   ]
  },
  {
   "cell_type": "code",
   "execution_count": 55,
   "metadata": {},
   "outputs": [
    {
     "name": "stdout",
     "output_type": "stream",
     "text": [
      "100\n"
     ]
    }
   ],
   "source": [
    "% run test.py\n",
    "\n",
    "# 코드 실행"
   ]
  },
  {
   "cell_type": "code",
   "execution_count": 22,
   "metadata": {},
   "outputs": [
    {
     "data": {
      "application/json": {
       "cell": {
        "!": "OSMagics",
        "HTML": "Other",
        "SVG": "Other",
        "bash": "Other",
        "capture": "ExecutionMagics",
        "cmd": "Other",
        "debug": "ExecutionMagics",
        "file": "Other",
        "html": "DisplayMagics",
        "javascript": "DisplayMagics",
        "js": "DisplayMagics",
        "latex": "DisplayMagics",
        "markdown": "DisplayMagics",
        "perl": "Other",
        "prun": "ExecutionMagics",
        "pypy": "Other",
        "python": "Other",
        "python2": "Other",
        "python3": "Other",
        "ruby": "Other",
        "script": "ScriptMagics",
        "sh": "Other",
        "svg": "DisplayMagics",
        "sx": "OSMagics",
        "system": "OSMagics",
        "time": "ExecutionMagics",
        "timeit": "ExecutionMagics",
        "writefile": "OSMagics"
       },
       "line": {
        "alias": "OSMagics",
        "alias_magic": "BasicMagics",
        "autocall": "AutoMagics",
        "automagic": "AutoMagics",
        "autosave": "KernelMagics",
        "bookmark": "OSMagics",
        "cd": "OSMagics",
        "clear": "KernelMagics",
        "cls": "KernelMagics",
        "colors": "BasicMagics",
        "config": "ConfigMagics",
        "connect_info": "KernelMagics",
        "copy": "Other",
        "ddir": "Other",
        "debug": "ExecutionMagics",
        "dhist": "OSMagics",
        "dirs": "OSMagics",
        "doctest_mode": "BasicMagics",
        "echo": "Other",
        "ed": "Other",
        "edit": "KernelMagics",
        "env": "OSMagics",
        "gui": "BasicMagics",
        "hist": "Other",
        "history": "HistoryMagics",
        "killbgscripts": "ScriptMagics",
        "ldir": "Other",
        "less": "KernelMagics",
        "load": "CodeMagics",
        "load_ext": "ExtensionMagics",
        "loadpy": "CodeMagics",
        "logoff": "LoggingMagics",
        "logon": "LoggingMagics",
        "logstart": "LoggingMagics",
        "logstate": "LoggingMagics",
        "logstop": "LoggingMagics",
        "ls": "Other",
        "lsmagic": "BasicMagics",
        "macro": "ExecutionMagics",
        "magic": "BasicMagics",
        "matplotlib": "PylabMagics",
        "mkdir": "Other",
        "more": "KernelMagics",
        "notebook": "BasicMagics",
        "page": "BasicMagics",
        "pastebin": "CodeMagics",
        "pdb": "ExecutionMagics",
        "pdef": "NamespaceMagics",
        "pdoc": "NamespaceMagics",
        "pfile": "NamespaceMagics",
        "pinfo": "NamespaceMagics",
        "pinfo2": "NamespaceMagics",
        "pip": "BasicMagics",
        "popd": "OSMagics",
        "pprint": "BasicMagics",
        "precision": "BasicMagics",
        "profile": "BasicMagics",
        "prun": "ExecutionMagics",
        "psearch": "NamespaceMagics",
        "psource": "NamespaceMagics",
        "pushd": "OSMagics",
        "pwd": "OSMagics",
        "pycat": "OSMagics",
        "pylab": "PylabMagics",
        "qtconsole": "KernelMagics",
        "quickref": "BasicMagics",
        "recall": "HistoryMagics",
        "rehashx": "OSMagics",
        "reload_ext": "ExtensionMagics",
        "ren": "Other",
        "rep": "Other",
        "rerun": "HistoryMagics",
        "reset": "NamespaceMagics",
        "reset_selective": "NamespaceMagics",
        "rmdir": "Other",
        "run": "ExecutionMagics",
        "save": "CodeMagics",
        "sc": "OSMagics",
        "set_env": "OSMagics",
        "store": "StoreMagics",
        "sx": "OSMagics",
        "system": "OSMagics",
        "tb": "ExecutionMagics",
        "time": "ExecutionMagics",
        "timeit": "ExecutionMagics",
        "unalias": "OSMagics",
        "unload_ext": "ExtensionMagics",
        "who": "NamespaceMagics",
        "who_ls": "NamespaceMagics",
        "whos": "NamespaceMagics",
        "xdel": "NamespaceMagics",
        "xmode": "BasicMagics"
       }
      },
      "text/plain": [
       "Available line magics:\n",
       "%alias  %alias_magic  %autocall  %automagic  %autosave  %bookmark  %cd  %clear  %cls  %colors  %config  %connect_info  %copy  %ddir  %debug  %dhist  %dirs  %doctest_mode  %echo  %ed  %edit  %env  %gui  %hist  %history  %killbgscripts  %ldir  %less  %load  %load_ext  %loadpy  %logoff  %logon  %logstart  %logstate  %logstop  %ls  %lsmagic  %macro  %magic  %matplotlib  %mkdir  %more  %notebook  %page  %pastebin  %pdb  %pdef  %pdoc  %pfile  %pinfo  %pinfo2  %popd  %pprint  %precision  %profile  %prun  %psearch  %psource  %pushd  %pwd  %pycat  %pylab  %qtconsole  %quickref  %recall  %rehashx  %reload_ext  %ren  %rep  %rerun  %reset  %reset_selective  %rmdir  %run  %save  %sc  %set_env  %store  %sx  %system  %tb  %time  %timeit  %unalias  %unload_ext  %who  %who_ls  %whos  %xdel  %xmode\n",
       "\n",
       "Available cell magics:\n",
       "%%!  %%HTML  %%SVG  %%bash  %%capture  %%cmd  %%debug  %%file  %%html  %%javascript  %%js  %%latex  %%markdown  %%perl  %%prun  %%pypy  %%python  %%python2  %%python3  %%ruby  %%script  %%sh  %%svg  %%sx  %%system  %%time  %%timeit  %%writefile\n",
       "\n",
       "Automagic is ON, % prefix IS NOT needed for line magics."
      ]
     },
     "execution_count": 22,
     "metadata": {},
     "output_type": "execute_result"
    }
   ],
   "source": [
    "%lsmagic\n",
    "\n",
    "# magic 키워드 출력"
   ]
  },
  {
   "cell_type": "code",
   "execution_count": 56,
   "metadata": {},
   "outputs": [
    {
     "name": "stdout",
     "output_type": "stream",
     "text": [
      "# 셀의 라인 표시\n",
      "1+2\n",
      "1+2\n",
      "1+2\n",
      "1+2\n",
      "1+2\n",
      "def test():\n",
      "    \"this is test function\"\n",
      "    return 1+2\n",
      "test()\n",
      "test?\n",
      "test??\n",
      "# `-test`\n",
      "\n",
      "# ```\n",
      "# def test():\n",
      "#    return 100\n",
      "# ```\n",
      "\n",
      "# ```\n",
      "\n",
      "# - code\n",
      "# * list\n",
      "# > code\n",
      "# ```\n",
      "# [text](link) 형태\n",
      "# [Google](https://www.google.com)\n",
      "# ---\n",
      "%pwd # 현재 위치\n",
      "%ls\n",
      "# 현재 디렉토리 파일 조회\n",
      "a=1234\n",
      "b=\"data\"\n",
      "%whos \n",
      "# 현재 정의된 변수 확인\n",
      "%reset\n",
      "# reset해서 empty\n",
      "\n",
      "%whos\n",
      "%time\n",
      "c=2**10000\n",
      "%%time\n",
      "d=2**100000\n",
      "%%timeit\n",
      "c=2**100000\n",
      "# 파일 작성(writefile) 후 파일 안에 코드 저장\n",
      "%%writefile test.py\n",
      "def test():\n",
      "    return 100\n",
      "print(test())\n",
      "# %load test.py\n",
      "def test():\n",
      "    return 100\n",
      "print(test())\n",
      "# 실행\n",
      "% run test.py\n",
      "%lsmagic\n",
      "%history\n",
      "!ls\n",
      "!echo \"dss8\"\n",
      "!touch dss.py\n",
      "!ls\n",
      "!cat test.py\n",
      "!pwd\n",
      "!mkdir dss\n",
      "!ls\n",
      "!rmdir dss\n",
      "!ls\n",
      "!mv dss.py dss\n",
      "!cp test.py dss\n",
      "!rm test.py\n",
      "!ls\n",
      "!df\n",
      "# 파일 이름 변경하는 커맨드가 따로 없으므로, mv를 사용\n",
      "\n",
      "!mv dss.py dss8.py\n",
      "1+3\n",
      "_\n",
      "a=_\n",
      "a\n",
      "# ipython에서 결과 데이터 출력\n",
      "\n",
      "2+4\n",
      "_\n",
      "# python에서 출력 함수를 이용해 결과 데이터 출력\n",
      "\n",
      "print(8+9)\n",
      "%time\n",
      "c=2**10000\n",
      "\n",
      "# 실행 시간\n",
      "%%time\n",
      "d=2**100000\n",
      "\n",
      "# 평균 실행 시간\n",
      "%%time\n",
      "d=2**100000\n",
      "%load test.py\n",
      "def test():\n",
      "    return 100\n",
      "print(test())\n",
      "%%load test.py\n",
      "def test():\n",
      "    return 100\n",
      "print(test())\n",
      "%load test.py\n",
      "%%writefile test.py\n",
      "def test():\n",
      "    return 100\n",
      "print(test())\n",
      "%load test.py\n",
      "# 코드 실행\n",
      "% run test.py\n",
      "%history\n"
     ]
    }
   ],
   "source": [
    "%history\n",
    "\n",
    "# 사용한 명령 출력"
   ]
  },
  {
   "cell_type": "markdown",
   "metadata": {},
   "source": [
    "### 4. Shell Command\n",
    "- !(command)"
   ]
  },
  {
   "cell_type": "code",
   "execution_count": 59,
   "metadata": {},
   "outputs": [
    {
     "name": "stdout",
     "output_type": "stream",
     "text": [
      "Jupyter.ipynb\n",
      "Python_Syntax.ipynb\n",
      "test.py\n"
     ]
    }
   ],
   "source": [
    "!ls\n",
    "\n",
    "# 파일 리스트 출력"
   ]
  },
  {
   "cell_type": "code",
   "execution_count": 60,
   "metadata": {},
   "outputs": [
    {
     "name": "stdout",
     "output_type": "stream",
     "text": [
      "\"dss8\"\n"
     ]
    }
   ],
   "source": [
    "!echo \"dss8\"\n",
    "\n",
    "# 문자열 출력"
   ]
  },
  {
   "cell_type": "code",
   "execution_count": 70,
   "metadata": {},
   "outputs": [],
   "source": [
    "!touch dss.py\n",
    "\n",
    "# 파일 생성 cf. %writefle"
   ]
  },
  {
   "cell_type": "code",
   "execution_count": 71,
   "metadata": {},
   "outputs": [
    {
     "name": "stdout",
     "output_type": "stream",
     "text": [
      "dss\n",
      "dss.py\n",
      "Jupyter.ipynb\n",
      "Python_Syntax.ipynb\n",
      "test.py\n"
     ]
    }
   ],
   "source": [
    "!ls\n",
    "\n",
    "# 생성된 파일 확인 cf. %ls"
   ]
  },
  {
   "cell_type": "code",
   "execution_count": 72,
   "metadata": {},
   "outputs": [
    {
     "name": "stdout",
     "output_type": "stream",
     "text": [
      "def test():\n",
      "    return 100\n",
      "print(test())\n"
     ]
    }
   ],
   "source": [
    "!cat test.py\n",
    "\n",
    "# 파일 (코드) 출력 cf. &load"
   ]
  },
  {
   "cell_type": "code",
   "execution_count": 73,
   "metadata": {},
   "outputs": [
    {
     "name": "stdout",
     "output_type": "stream",
     "text": [
      "/c/Users/Hyejeong Kim/fc_dss\n"
     ]
    }
   ],
   "source": [
    "!pwd\n",
    "\n",
    "# 현재 위치"
   ]
  },
  {
   "cell_type": "code",
   "execution_count": 75,
   "metadata": {},
   "outputs": [],
   "source": [
    "!mkdir dss\n",
    "\n",
    "# 디렉토리(폴더 같은 개념) 생성 "
   ]
  },
  {
   "cell_type": "code",
   "execution_count": 76,
   "metadata": {},
   "outputs": [
    {
     "name": "stdout",
     "output_type": "stream",
     "text": [
      "dss\n",
      "dss.py\n",
      "Jupyter.ipynb\n",
      "Python_Syntax.ipynb\n",
      "test.py\n"
     ]
    }
   ],
   "source": [
    "!ls"
   ]
  },
  {
   "cell_type": "code",
   "execution_count": 65,
   "metadata": {},
   "outputs": [],
   "source": [
    "!rmdir dss\n",
    "\n",
    "# 디렉토리 삭제"
   ]
  },
  {
   "cell_type": "code",
   "execution_count": 66,
   "metadata": {},
   "outputs": [
    {
     "name": "stdout",
     "output_type": "stream",
     "text": [
      "dss.py\n",
      "Jupyter.ipynb\n",
      "Python_Syntax.ipynb\n",
      "test.py\n"
     ]
    }
   ],
   "source": [
    "!ls\n",
    "\n",
    "# 디렉토리 삭제됨을 확인"
   ]
  },
  {
   "cell_type": "code",
   "execution_count": 77,
   "metadata": {},
   "outputs": [],
   "source": [
    "!mv dss.py dss\n",
    "\n",
    "# 파일 이동 (dss 디렉토리로)"
   ]
  },
  {
   "cell_type": "code",
   "execution_count": 78,
   "metadata": {},
   "outputs": [],
   "source": [
    "!cp test.py dss\n",
    "\n",
    "# 파일 복사 (dss 디렉토리로)"
   ]
  },
  {
   "cell_type": "code",
   "execution_count": 79,
   "metadata": {},
   "outputs": [],
   "source": [
    "!rm test.py\n",
    "\n",
    "# 파일 삭제"
   ]
  },
  {
   "cell_type": "code",
   "execution_count": 80,
   "metadata": {
    "scrolled": true
   },
   "outputs": [
    {
     "name": "stdout",
     "output_type": "stream",
     "text": [
      "dss\n",
      "Jupyter.ipynb\n",
      "Python_Syntax.ipynb\n"
     ]
    }
   ],
   "source": [
    "!ls\n",
    "\n",
    "# 이제 test.py는 dss에 복사본이 있고 fc_dss에서는 삭제됨"
   ]
  },
  {
   "cell_type": "code",
   "execution_count": 81,
   "metadata": {},
   "outputs": [
    {
     "name": "stdout",
     "output_type": "stream",
     "text": [
      "Filesystem           1K-blocks     Used Available Use% Mounted on\n",
      "C:/Program Files/Git  52428796 42408940  10019856  81% /\n",
      "D:                    48534524 26415768  22118756  55% /d\n"
     ]
    }
   ],
   "source": [
    "!df\n",
    "\n",
    "# (disk free) 사용량 확인"
   ]
  },
  {
   "cell_type": "markdown",
   "metadata": {},
   "source": [
    "##### tip) 파일 이름 변경하는 커맨드는 따로 없으므로, mv를 사용\n",
    "\n",
    "!mv dss.py dss8.py"
   ]
  },
  {
   "cell_type": "markdown",
   "metadata": {},
   "source": [
    "### 5. Jupyter Notebook Expression\n",
    "- _ (언더바): 가장 최근에 실행한 셀을 사용하고자 할 때"
   ]
  },
  {
   "cell_type": "code",
   "execution_count": 40,
   "metadata": {},
   "outputs": [
    {
     "data": {
      "text/plain": [
       "4"
      ]
     },
     "execution_count": 40,
     "metadata": {},
     "output_type": "execute_result"
    }
   ],
   "source": [
    "1+3"
   ]
  },
  {
   "cell_type": "code",
   "execution_count": 41,
   "metadata": {},
   "outputs": [
    {
     "data": {
      "text/plain": [
       "4"
      ]
     },
     "execution_count": 41,
     "metadata": {},
     "output_type": "execute_result"
    }
   ],
   "source": [
    "_"
   ]
  },
  {
   "cell_type": "code",
   "execution_count": 42,
   "metadata": {},
   "outputs": [],
   "source": [
    "a=_"
   ]
  },
  {
   "cell_type": "code",
   "execution_count": 43,
   "metadata": {},
   "outputs": [
    {
     "data": {
      "text/plain": [
       "4"
      ]
     },
     "execution_count": 43,
     "metadata": {},
     "output_type": "execute_result"
    }
   ],
   "source": [
    "a"
   ]
  },
  {
   "cell_type": "code",
   "execution_count": 44,
   "metadata": {},
   "outputs": [
    {
     "data": {
      "text/plain": [
       "6"
      ]
     },
     "execution_count": 44,
     "metadata": {},
     "output_type": "execute_result"
    }
   ],
   "source": [
    "# ipython에서 결과 데이터 출력\n",
    "\n",
    "2+4"
   ]
  },
  {
   "cell_type": "code",
   "execution_count": 45,
   "metadata": {},
   "outputs": [
    {
     "data": {
      "text/plain": [
       "6"
      ]
     },
     "execution_count": 45,
     "metadata": {},
     "output_type": "execute_result"
    }
   ],
   "source": [
    "_"
   ]
  },
  {
   "cell_type": "code",
   "execution_count": 46,
   "metadata": {},
   "outputs": [
    {
     "name": "stdout",
     "output_type": "stream",
     "text": [
      "17\n"
     ]
    }
   ],
   "source": [
    "# python에서 출력 함수를 이용해 결과 데이터 출력\n",
    "\n",
    "print(8+9)"
   ]
  },
  {
   "cell_type": "markdown",
   "metadata": {},
   "source": [
    "##### 커서 관련 tips\n",
    "- Home키, End키, ctrl+방향키로 한 단어씩 건너뛰기\n",
    "- 블록 설정 후 tab키 눌러서 한번에 들여쓰기"
   ]
  },
  {
   "cell_type": "code",
   "execution_count": null,
   "metadata": {},
   "outputs": [],
   "source": []
  }
 ],
 "metadata": {
  "kernelspec": {
   "display_name": "Python 3",
   "language": "python",
   "name": "python3"
  },
  "language_info": {
   "codemirror_mode": {
    "name": "ipython",
    "version": 3
   },
   "file_extension": ".py",
   "mimetype": "text/x-python",
   "name": "python",
   "nbconvert_exporter": "python",
   "pygments_lexer": "ipython3",
   "version": "3.6.4"
  }
 },
 "nbformat": 4,
 "nbformat_minor": 2
}
